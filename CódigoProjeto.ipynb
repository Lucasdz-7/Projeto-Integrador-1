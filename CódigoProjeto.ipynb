{
  "nbformat": 4,
  "nbformat_minor": 0,
  "metadata": {
    "colab": {
      "provenance": [],
      "authorship_tag": "ABX9TyO37XwzrTI25UKWpd8BeB7l"
    },
    "kernelspec": {
      "name": "python3",
      "display_name": "Python 3"
    },
    "language_info": {
      "name": "python"
    }
  },
  "cells": [
    {
      "cell_type": "code",
      "execution_count": 8,
      "metadata": {
        "id": "ZSj2T-fEzHmb"
      },
      "outputs": [],
      "source": [
        "import pandas as pd\n"
      ]
    },
    {
      "cell_type": "code",
      "source": [
        "\n",
        "arquivos = [\"DadosBase2023.csv\", \"DadosBase2024.csv\", \"SH.csv\", \"NomesMunicipios.csv\"]\n",
        "\n",
        "url_base = \"https://raw.githubusercontent.com/Lucasdz-7/Projeto-Integrador-1/f81f64f9a0324de118ead77d63aba9e33bb98e32/Projeto/\"\n",
        "\n",
        "dataframes = {}\n",
        "\n",
        "for arquivo in arquivos:\n",
        "    url = url_base + arquivo\n",
        "    print(f\"Baixando {arquivo} de {url}...\")\n",
        "\n",
        "    try:\n",
        "        df = pd.read_csv(url, sep=\";\", encoding=\"ISO-8859-1\")\n",
        "        dataframes[arquivo] = df\n",
        "        print(f\"{arquivo} carregado com sucesso!\")\n",
        "    except Exception as e:\n",
        "        print(f\"Erro ao baixar {arquivo}: {e}\")\n",
        "\n",
        "if arquivos:\n",
        "    primeiro_arquivo = arquivos[0]\n",
        "    print(f\"\\nVisualizando {primeiro_arquivo}:\")\n",
        "    print(dataframes[primeiro_arquivo].head())\n"
      ],
      "metadata": {
        "id": "MCH30y8fjqBt",
        "outputId": "bf5b4d46-8ca0-460b-9ce4-ec41c7a2e322",
        "colab": {
          "base_uri": "https://localhost:8080/"
        }
      },
      "execution_count": 12,
      "outputs": [
        {
          "output_type": "stream",
          "name": "stdout",
          "text": [
            "Baixando DadosBase2023.csv de https://raw.githubusercontent.com/Lucasdz-7/Projeto-Integrador-1/f81f64f9a0324de118ead77d63aba9e33bb98e32/Projeto/DadosBase2023.csv...\n",
            "DadosBase2023.csv carregado com sucesso!\n",
            "Baixando DadosBase2024.csv de https://raw.githubusercontent.com/Lucasdz-7/Projeto-Integrador-1/f81f64f9a0324de118ead77d63aba9e33bb98e32/Projeto/DadosBase2024.csv...\n",
            "DadosBase2024.csv carregado com sucesso!\n",
            "Baixando SH.csv de https://raw.githubusercontent.com/Lucasdz-7/Projeto-Integrador-1/f81f64f9a0324de118ead77d63aba9e33bb98e32/Projeto/SH.csv...\n",
            "SH.csv carregado com sucesso!\n",
            "Baixando NomesMunicipios.csv de https://raw.githubusercontent.com/Lucasdz-7/Projeto-Integrador-1/f81f64f9a0324de118ead77d63aba9e33bb98e32/Projeto/NomesMunicipios.csv...\n",
            "NomesMunicipios.csv carregado com sucesso!\n",
            "\n",
            "Visualizando DadosBase2023.csv:\n",
            "   CO_ANO  CO_MES   SH4  CO_PAIS SG_UF_MUN   CO_MUN  KG_LIQUIDO  VL_FOB\n",
            "0    2023      10  2209      127        BA  2919553          36      53\n",
            "1    2023      11  4009      493        SP  3456701         473   14008\n",
            "2    2023      11  8536      365        SP  3438709           2     181\n",
            "3    2023       8  8512       63        RJ  3304201       15627  239105\n",
            "4    2023       6  1902      580        PR  4118204         287     368\n"
          ]
        }
      ]
    }
  ]
}